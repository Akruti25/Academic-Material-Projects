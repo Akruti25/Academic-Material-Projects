{
  "nbformat": 4,
  "nbformat_minor": 0,
  "metadata": {
    "colab": {
      "provenance": []
    },
    "kernelspec": {
      "name": "python3",
      "display_name": "Python 3"
    },
    "language_info": {
      "name": "python"
    }
  },
  "cells": [
    {
      "cell_type": "code",
      "source": [
        "#!pip install adblockparser"
      ],
      "metadata": {
        "colab": {
          "base_uri": "https://localhost:8080/"
        },
        "id": "QMy50u-3qMBk",
        "outputId": "1bc05ffe-e850-4569-d7f7-b111c2b924af"
      },
      "execution_count": null,
      "outputs": [
        {
          "output_type": "stream",
          "name": "stdout",
          "text": [
            "Requirement already satisfied: adblockparser in /usr/local/lib/python3.10/dist-packages (0.7)\n"
          ]
        }
      ]
    },
    {
      "cell_type": "code",
      "source": [
        "from adblockparser import AdblockRules\n",
        "import json\n",
        "from urllib.parse import urlparse\n",
        "\n",
        "def read_harfile(harfile_path, rules):\n",
        "    harfile = open(harfile_path, encoding=\"utf-8\")\n",
        "    harfile_json = json.load(harfile)\n",
        "    requests_count = {'a': 0, 'b': 0, 'c': 0}\n",
        "\n",
        "    # Iterate through the entries in the HAR file\n",
        "    for entry in harfile_json['log']['entries']:\n",
        "        url = entry['request']['url']\n",
        "        content_type = entry['response']['content']['mimeType']\n",
        "\n",
        "        if rules.should_block(url, {'third-party': True}):\n",
        "            requests_count['a'] += 1\n",
        "        elif 'scorecardresearch.com' in urlparse(url).netloc and content_type.startswith('image'):\n",
        "            if rules.should_block(url, {'domain': True, 'image': True}):\n",
        "                requests_count['b'] += 1\n",
        "        elif 'doubleclick.net' in urlparse(url).netloc and content_type.startswith('text/javascript'):\n",
        "            if rules.should_block(url, {'script': True}):\n",
        "                requests_count['c'] += 1\n",
        "\n",
        "    return requests_count\n",
        "\n",
        "# Create a parser for AdBlock Plus filter rules\n",
        "filter_rules = {\n",
        "    'a': ['*cookiesync?*'],\n",
        "    'b': ['||scorecardresearch.com^$image'],\n",
        "    'c': ['||doubleclick.net^$script']\n",
        "}\n",
        "\n",
        "rules = AdblockRules(filter_rules['a'] + filter_rules['b'] + filter_rules['c'])\n",
        "\n",
        "harfile_path = 'www.cnn.com.har'\n",
        "blocked_requests_count = read_harfile(harfile_path, rules)\n",
        "print('# of HTTP requests blocked:')\n",
        "print(\"Block any request containing ‘cookiesync?’ string:\", blocked_requests_count['a'])\n",
        "print(\"Block any image (e.g., jpg, gif etc.) loading from scorecardresearch.com:\", blocked_requests_count['b'])\n",
        "print(\"Block any script loading from doubleclick.net:\", blocked_requests_count['c'])\n"
      ],
      "metadata": {
        "colab": {
          "base_uri": "https://localhost:8080/"
        },
        "id": "yjO9ZYQqLVfY",
        "outputId": "2089bd6c-e276-40f9-8c70-1252e85e9762"
      },
      "execution_count": 30,
      "outputs": [
        {
          "output_type": "stream",
          "name": "stdout",
          "text": [
            "# of HTTP requests blocked:\n",
            "Block any request containing ‘cookiesync?’ string: 2\n",
            "Block any image (e.g., jpg, gif etc.) loading from scorecardresearch.com: 3\n",
            "Block any script loading from doubleclick.net: 3\n"
          ]
        }
      ]
    }
  ]
}