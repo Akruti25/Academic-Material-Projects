{
  "nbformat": 4,
  "nbformat_minor": 0,
  "metadata": {
    "colab": {
      "provenance": []
    },
    "kernelspec": {
      "name": "python3",
      "display_name": "Python 3"
    },
    "language_info": {
      "name": "python"
    }
  },
  "cells": [
    {
      "cell_type": "code",
      "source": [
        "#Importing stuff\n",
        "#!pip install tld\n",
        "import argparse\n",
        "import json\n",
        "from urllib.parse import urlparse\n",
        "from tld import get_fld"
      ],
      "metadata": {
        "id": "3ChYGZJ0Tg1C"
      },
      "execution_count": 54,
      "outputs": []
    },
    {
      "cell_type": "code",
      "source": [
        "#Reading har files\n",
        "def read_harfile(harfile_path):\n",
        "  harfile = open(harfile_path, encoding=\"utf-8\")\n",
        "  harfile_json = json.loads(harfile.read())\n",
        "  i = 0\n",
        "  third_party_domains = set()\n",
        "  for entry in harfile_json['log']['entries']:\n",
        "    i = i + 1\n",
        "    url = entry['request']['url']\n",
        "\n",
        "    effective_top_level_domain = get_fld(url)\n",
        "    if effective_top_level_domain != 'macys.com' and effective_top_level_domain != 'cnn.com':\n",
        "      third_party_domains.add(effective_top_level_domain)\n",
        "\n",
        "  return third_party_domains\n",
        "\n",
        "# Count the number of unique third-party domains\n",
        "def count_unique_third_party_domains(third_party_domains):\n",
        "  unique_third_party_domains = set()\n",
        "  for domain in third_party_domains:\n",
        "    unique_third_party_domains.add(domain)\n",
        "  return len(unique_third_party_domains)\n",
        "\n",
        "# Print the number of unique third-party domains for each website\n",
        "print(\"Answer to part a\")\n",
        "macys_third_party_domains = read_harfile('www.macys.com.har')\n",
        "cnn_third_party_domains = read_harfile('www.cnn.com.har')\n",
        "\n",
        "print(\"The number of unique third-party domains loaded while visiting macys.com is\", count_unique_third_party_domains(macys_third_party_domains))\n",
        "print(\"The number of unique third-party domains loaded while visiting cnn.com is\", count_unique_third_party_domains(cnn_third_party_domains))\n"
      ],
      "metadata": {
        "id": "tHbz1fxIUaBD",
        "colab": {
          "base_uri": "https://localhost:8080/"
        },
        "outputId": "ac792a22-7a61-4bc8-d269-71bd6271f394"
      },
      "execution_count": 55,
      "outputs": [
        {
          "output_type": "stream",
          "name": "stdout",
          "text": [
            "Answer to part a\n",
            "The number of unique third-party domains loaded while visiting macys.com is 73\n",
            "The number of unique third-party domains loaded while visiting cnn.com is 80\n"
          ]
        }
      ]
    },
    {
      "cell_type": "code",
      "source": [
        "print(\"Answer to part b:\")\n",
        "# Find the unique third-party domains that appear on both macys.com and cnn.com\n",
        "common_third_party_domains = macys_third_party_domains.intersection(cnn_third_party_domains)\n",
        "\n",
        "# Print the common third-party domains\n",
        "print(\"The unique third-party domains that appear on both macys.com and cnn.com are:\", common_third_party_domains)\n",
        "print(\"The number of the common domains are:\", len(common_third_party_domains))"
      ],
      "metadata": {
        "colab": {
          "base_uri": "https://localhost:8080/"
        },
        "id": "8am2xvinamcW",
        "outputId": "19cf2a27-b6b3-4879-e3d0-75b9945368d4"
      },
      "execution_count": 56,
      "outputs": [
        {
          "output_type": "stream",
          "name": "stdout",
          "text": [
            "Answer to part b:\n",
            "The unique third-party domains that appear on both macys.com and cnn.com are: {'criteo.net', 'googlesyndication.com', 'facebook.com', 'casalemedia.com', 'bounceexchange.com', 'mathtag.com', 't.co', 'doubleclick.net', 'twitter.com', 'ads-twitter.com', 'adnxs.com', 'cookielaw.org', 'adsrvr.org', 'google.com', 'yahoo.com', 'bouncex.net', 'rubiconproject.com', 'criteo.com'}\n",
            "The number of the common domains are: 18\n"
          ]
        }
      ]
    },
    {
      "cell_type": "code",
      "source": [
        "import json\n",
        "from tld import get_fld\n",
        "\n",
        "with open('disconnect.json', 'r', encoding='utf-8') as disconnect_file:\n",
        "    disconnect_data = json.load(disconnect_file)\n",
        "    disconnect_domains = set()\n",
        "\n",
        "    for category_entries in disconnect_data['categories'].values():\n",
        "        for category_dict in category_entries:\n",
        "            for domain_info_dict in category_dict.values():\n",
        "                for domain_key, domain_values_list in domain_info_dict.items():\n",
        "                    for domain_value in domain_values_list:\n",
        "                        key_domain = get_fld(domain_key, fail_silently=True)\n",
        "                        if key_domain:\n",
        "                            disconnect_domains.add(key_domain)\n",
        "                            disconnect_domains.add(domain_value)\n",
        "#print(len(disconnect_domains))"
      ],
      "metadata": {
        "id": "NjqpkEyFnJ50"
      },
      "execution_count": 57,
      "outputs": []
    },
    {
      "cell_type": "code",
      "source": [
        "def blocked_requests(harfile_path, disconnect_domains):\n",
        "  harfile = open(harfile_path, encoding='utf-8')\n",
        "  harfile_json = json.load(harfile)\n",
        "  blocked_requests = 0\n",
        "\n",
        "  for entry in harfile_json['log']['entries']:\n",
        "    url = entry['request']['url']\n",
        "    domain = get_fld(url, fail_silently=True)\n",
        "\n",
        "    if domain in disconnect_domains:\n",
        "      blocked_requests += 1\n",
        "\n",
        "  return blocked_requests"
      ],
      "metadata": {
        "id": "q1VprvEsqTuF"
      },
      "execution_count": 58,
      "outputs": []
    },
    {
      "cell_type": "code",
      "source": [
        "print(\"Answer to part c:\")\n",
        "\n",
        "blocked_macys_requests = blocked_requests(\"www.macys.com.har\", disconnect_domains)\n",
        "blocked_cnn_requests = blocked_requests(\"www.cnn.com.har\", disconnect_domains)\n",
        "# Print the number of blocked requests\n",
        "print('Website | # of requests blocked')\n",
        "print('------- | --------')\n",
        "print('Macys   |', blocked_macys_requests)\n",
        "print('CNN     |', blocked_cnn_requests)\n"
      ],
      "metadata": {
        "colab": {
          "base_uri": "https://localhost:8080/"
        },
        "id": "3wb5WsMaq4bc",
        "outputId": "f73df0f0-4392-4668-c7d1-dd0362cbb800"
      },
      "execution_count": 59,
      "outputs": [
        {
          "output_type": "stream",
          "name": "stdout",
          "text": [
            "Answer to part c:\n",
            "Website | # of requests blocked\n",
            "------- | --------\n",
            "Macys   | 176\n",
            "CNN     | 263\n"
          ]
        }
      ]
    }
  ]
}